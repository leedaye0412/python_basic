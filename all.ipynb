{
 "cells": [
  {
   "cell_type": "code",
   "execution_count": 1,
   "id": "2955a234-f465-47e6-96ab-f378ca165704",
   "metadata": {},
   "outputs": [
    {
     "name": "stdout",
     "output_type": "stream",
     "text": [
      "         Quantity\n",
      "Product          \n",
      "A              20\n",
      "B              35\n"
     ]
    }
   ],
   "source": [
    "#10장\n",
    "#2.[코딩문제] 다음은 Pandas의 피봇 테이블 pivot_table() 함수를 활용하여 주어진 데이터프 레임 “df” 을 집계하고 분석하는 코딩 문제이다.\n",
    "\n",
    "import pandas as pd\n",
    "dataset = {\"CustomerID\" : [\"C1\", \"C2\", \"C3\", \"C4\"],\n",
    "                   \"Product\" : [\"A\", \"B\", \"A\", \"B\"],\n",
    "                   \"Quantity\" : [10,15,10,20]}\n",
    "df = pd.DataFrame(dataset)\n",
    "df\n",
    "\n",
    "#(2-1) 각 제품(Product)별로 판매된 총 수량(Quantity)을 계산하여 그 결과를 출력하시오.\n",
    "# df_1 = df.pivot_table(values='Quantity', index='Product', aggfunc='sum')\n",
    "# print(df_1)\n",
    "df=pd.pivot_table(df, values='Quantity', index='Product', aggfunc='sum')\n",
    "print(df)\n",
    "\n",
    "#(2-2) 각 고객(CustomerID)이 구매한 제품(Product)별 총 수량(Quantity)을 구하고, 그 결과 를 출력하시오.\n",
    "# df_2 = df.pivot_table(values='Quantity', index='CustomerID', columns='Product', aggfunc='sum', fill_value=0)\n",
    "# print(df_2)\n",
    "# df1=pd.pivot_table(df, values='Quantity', index='CustomerID', columns='Product', aggfunc='sum', fill_value=0)\n",
    "# print(df1)\n",
    "\n",
    "#(2-3) 각 제품(Product)별로 평균 구매 수량(Quantity)을 계산하여 그 결과를 출력하시오.\n",
    "# df_3 = df.pivot_table(values='Quantity', index='Product', aggfunc='mean')\n",
    "# print(df_3)\n",
    "# df2=pd.pivot_table(df, values='Quantity', index='Product', aggfunc='mean')\n",
    "# print(df2)"
   ]
  },
  {
   "cell_type": "code",
   "execution_count": 8,
   "id": "f4588cb9-eb3e-4447-9f5b-889573fa54e9",
   "metadata": {},
   "outputs": [
    {
     "name": "stdout",
     "output_type": "stream",
     "text": [
      "                    Quantity\n",
      "CustomerID Product          \n",
      "C1         A              10\n",
      "C2         B              15\n",
      "C3         A              10\n",
      "C4         B              20\n"
     ]
    }
   ],
   "source": [
    "import pandas as pd\n",
    "dataset = {\"CustomerID\" : [\"C1\", \"C2\", \"C3\", \"C4\"],\n",
    "                   \"Product\" : [\"A\", \"B\", \"A\", \"B\"],\n",
    "                   \"Quantity\" : [10,15,10,20]}\n",
    "df = pd.DataFrame(dataset)\n",
    "\n",
    "df = pd.pivot_table(df, values='Quantity', index=['CustomerID','Product'], aggfunc='sum')\n",
    "print(df)"
   ]
  },
  {
   "cell_type": "code",
   "execution_count": 5,
   "id": "250b0e3c-649f-47b8-b6cc-16b2149ac408",
   "metadata": {},
   "outputs": [
    {
     "name": "stdout",
     "output_type": "stream",
     "text": [
      "         Quantity\n",
      "Product          \n",
      "A            10.0\n",
      "B            17.5\n"
     ]
    }
   ],
   "source": [
    "import pandas as pd\n",
    "dataset = {\"CustomerID\" : [\"C1\", \"C2\", \"C3\", \"C4\"],\n",
    "                   \"Product\" : [\"A\", \"B\", \"A\", \"B\"],\n",
    "                   \"Quantity\" : [10,15,10,20]}\n",
    "df = pd.DataFrame(dataset)\n",
    "\n",
    "df=pd.pivot_table(df, values='Quantity', index='Product', aggfunc='mean')\n",
    "print(df)"
   ]
  },
  {
   "cell_type": "code",
   "execution_count": null,
   "id": "62402ad8-2b56-437f-bd36-8a3ac624d5d1",
   "metadata": {},
   "outputs": [],
   "source": [
    "#3. [코딩 문제] 다음은 주어진 데이터프레임 “df”에 대해 groupby()와 apply() 함수을 사용하여 \n",
    "#“각 도시에서 최고 온도가 가장 높은 날짜를 찾는” 코드를 작성하시오.\n",
    "import pandas as pd\n",
    "\n",
    "dataset = {\"도시\" : [\"서울\", \"서울\", \"대구\", \"광주\"],\n",
    "            \"날짜\" : [\"2024-06-01\", \"2024-06-02\", \"2024-06-01\", \"2024-06-01\"],\n",
    "            \"최고온도\" : [28,30,32,29],\n",
    "          \"최저온도\":[18,20,21,19]}\n",
    "df = pd.DataFrame(dataset)\n",
    "df\n",
    "    \n",
    "# 각 도시에서 최고 온도가 가장 높은 날짜를 찾기\n",
    "df = df.groupby('도시').apply(lambda x: x.loc[x['최고온도'].idxmax(),'날짜'])\n",
    "# 결과 출력\n",
    "print(df)"
   ]
  },
  {
   "cell_type": "code",
   "execution_count": null,
   "id": "c7311467-ad2b-44fa-ae0b-1e79d8b93c02",
   "metadata": {},
   "outputs": [],
   "source": [
    "# (11장)\n",
    "# 4. [코딩문제] 다음은 일별 주식 가격 데이터를 포함하는 시계열 데이터 분석이다(1,2). 이동 창 함수 rolling()을 이용하여 2일 이동 합계를 계산하고(3), \n",
    "# 이 결과를 데이터프레임에 새로 운 열로 추가하고(3), 최종 데이터프레임을 출력(4)하는 코딩을 완성하시오.\n",
    "\n",
    "import pandas as pd \n",
    "\n",
    "# 주어진 데이터프레임 \n",
    "data = {\n",
    "'날짜': ['2024-06-01', '2024-06-02', '2024-06-03', '2024-06-04', '2024-06-05'],\n",
    "'종가': [100, 102, 101, 105, 107] } \n",
    "\n",
    "df = pd.DataFrame(data)\n",
    "\n",
    "\n",
    "# '날짜' 열의 데이터를 datetime 형식으로 변환 (1)\n",
    "df['날짜'] = pd.to_datetime(df['날짜'])\n",
    "print(df)\n",
    "\n",
    "# '날짜' 열을 데이터프레임 df의 인덱스로 설정 (2)\n",
    "df.set_index('날짜', inplace=True)\n",
    "print(df)\n",
    "\n",
    "# 2일 이동 합계 계산하여 새로운 열 '2일 이동 합계'로 데이터프레임 df에 추가 (3)\n",
    "df['2일 이동합계'] = df['종가'].rolling(window=2).sum()\n",
    "print(df)\n",
    "\n",
    "# 최종 데이터프레임 출력 (4)\n",
    "print(df)"
   ]
  },
  {
   "cell_type": "code",
   "execution_count": null,
   "id": "dc21fc47-af75-4be0-ba17-5eb057a264db",
   "metadata": {},
   "outputs": [],
   "source": [
    "# 8. 다음 코드의 실행 결과를 적으시오.\n",
    "import pandas as pd\n",
    "cities = ['서울', '대구', '인천', '서울', '대구', '서울'] \n",
    "df = pd.DataFrame(cities, columns=['City']) \n",
    "encoded = pd.get_dummies(df['City'])\n",
    "df_encoded = pd.concat([df, encoded], axis=1) \n",
    "print(df_encoded)"
   ]
  },
  {
   "cell_type": "code",
   "execution_count": null,
   "id": "883b01cc-3467-42b5-973e-5c15f2bcd504",
   "metadata": {},
   "outputs": [],
   "source": [
    "# 9. [코딩문제] 다음과 같이 데이터프레임 df(왼쪽 그림)에 대하여 pivot_table()을 활용하여 CustomerID와 Product별 총 구매 수량을 계산한 후, \n",
    "# stack() 함수를 활용하여 스택하여 MultiIndex Series로 변환하여 그 결과(오른쪽 그림)가 반영된 데이터프레임을 출력하도록 코딩시오.\n",
    "\n",
    "import pandas as pd\n",
    "\n",
    "dataset = {\"OrderID\" : [1,2,3,4],\n",
    "            \"CustomerID\" : [\"C1\", \"C2\", \"C3\", \"C4\"],\n",
    "            \"Product\" : [\"A\", \"B\", \"A\", \"B\"],\n",
    "          \"Quantity\":[10,15,10,20]}\n",
    "df = pd.DataFrame(dataset)\n",
    "df\n",
    "\n",
    "# pivot_table을 활용하여 CustomerID와 Product별 총 구매 수량 계산\n",
    "df = df.pivot_table(index='CustomerID', columns='Product', values='Quantity', aggfunc='sum')\n",
    "\n",
    "# stack 함수를 사용하여 MultiIndex Series로 변환\n",
    "df = df.stack()\n",
    "\n",
    "# 결과 출력\n",
    "print(df)"
   ]
  },
  {
   "cell_type": "code",
   "execution_count": null,
   "id": "d780aace-eec8-48e9-8e84-abc9f9b79337",
   "metadata": {},
   "outputs": [],
   "source": [
    "# (13장)\n",
    "# 31. [코딩 문제] 주어진 데이터를 이용하여 로지스틱 분류 회귀(Logistic regression) 모델링 을 코딩하시오. \n",
    "import numpy as np\n",
    "from sklearn.linear_model import LogisticRegression\n",
    "\n",
    "x_train = np.array([[1],[2],[3],[4],[5]])\n",
    "y_train = np.array([0,0,1,1,1])\n",
    "\n",
    "# 아래 문제별 코드를 실행하면 로지스틱 회귀 분류 모델링의 각 단계를 확인할 수 있도록 코딩하시오.\n",
    "\n",
    "# (31-1) 주어진 데이터를 사용하여 로지스틱 회귀 모델을 생성하고 지도학습으로 훈련하시오.\n",
    "model = LogisticRegression()\n",
    "model.fit(x_train, y_train)\n",
    "\n",
    "# (31-2) 문제 (31-1)에서 얻은 로지스틱 분류 모델의 회귀 계수와 y절편을 출력하시오.\n",
    "print(\"회귀 계수:\", model.coef_)\n",
    "print(\"y절편:\", model.intercept_)\n",
    "\n",
    "# (31-3) 주어진 특성 데이터를 사용하여 문제 (31-1)에서 얻은 로지스틱 회귀 모델의 예측 값 을 추정하시오.\n",
    "# 주어진 특성 데이터\n",
    "x_test = np.array([[6], [7]])\n",
    "\n",
    "# 예측값 추정\n",
    "y_pred = model.predict(x_test)\n",
    "print(\"예측값:\", y_pred)\n",
    "\n",
    "# (31-4) 주어진 특성 데이터를 사용하여 문제 (31-1)에서 얻은 로지스틱 회귀 모델의 분류 성 능 평가를 \n",
    "# confusion matrix와 classification_report을 활용하여 출력하시오.\n",
    "from sklearn.metrics import confusion_matrix, classification_report\n",
    "\n",
    "# 실제 테스트 데이터가 필요하지만, 예제에서는 이를 생략하고 예측값만 사용\n",
    "# 실제 데이터가 있을 경우 y_test를 대체할 수 있습니다.\n",
    "y_test = np.array([1, 1])  # 예시로 실제값을 설정\n",
    "\n",
    "# 혼동 행렬 및 분류 보고서 출력\n",
    "cm = confusion_matrix(y_test, y_pred)\n",
    "cr = classification_report(y_test, y_pred)\n",
    "\n",
    "print(\"혼동 행렬:\\n\", cm)\n",
    "print(\"분류 보고서:\\n\", cr)\n"
   ]
  },
  {
   "cell_type": "code",
   "execution_count": null,
   "id": "997d8a9d-75df-4797-802c-c7c7e74ef518",
   "metadata": {},
   "outputs": [],
   "source": []
  }
 ],
 "metadata": {
  "kernelspec": {
   "display_name": "Python 3 (ipykernel)",
   "language": "python",
   "name": "python3"
  },
  "language_info": {
   "codemirror_mode": {
    "name": "ipython",
    "version": 3
   },
   "file_extension": ".py",
   "mimetype": "text/x-python",
   "name": "python",
   "nbconvert_exporter": "python",
   "pygments_lexer": "ipython3",
   "version": "3.12.1"
  }
 },
 "nbformat": 4,
 "nbformat_minor": 5
}
